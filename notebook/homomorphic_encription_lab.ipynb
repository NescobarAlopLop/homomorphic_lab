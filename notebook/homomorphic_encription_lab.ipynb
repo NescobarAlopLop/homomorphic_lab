{
  "nbformat": 4,
  "nbformat_minor": 0,
  "metadata": {
    "colab": {
      "name": "homomorphic encription lab",
      "provenance": [],
      "collapsed_sections": []
    },
    "kernelspec": {
      "name": "python3",
      "display_name": "Python 3"
    }
  },
  "cells": [
    {
      "cell_type": "markdown",
      "metadata": {
        "id": "v6Fi-IRin6ZI"
      },
      "source": [
        "# Homomorphic Encryption (HE) Laboratory Report"
      ]
    },
    {
      "cell_type": "markdown",
      "metadata": {
        "id": "2iZqL3LJou_k"
      },
      "source": [
        "First things first we need to install 2 libraries and download repository with the dataset.\n",
        "- TenSEAL is a library for doing homomorphic encryption operations on tensors, built on top of Microsoft SEAL\n",
        "- Python Speach Features - is needed to extract features from audio"
      ]
    },
    {
      "cell_type": "code",
      "metadata": {
        "colab": {
          "base_uri": "https://localhost:8080/"
        },
        "id": "hHZxRYAujXrm",
        "outputId": "1d248f44-c396-46db-d49c-c2d2d80415bd"
      },
      "source": [
        "!pip install tenseal\n",
        "!pip install python_speech_features\n",
        "!git clone https://github.com/NescobarAlopLop/homomorhpic_lab.git"
      ],
      "execution_count": 1,
      "outputs": [
        {
          "output_type": "stream",
          "text": [
            "Collecting tenseal\n",
            "\u001b[?25l  Downloading https://files.pythonhosted.org/packages/37/9c/c47f7d2358f2a77c8f0803fd7e70014720f6ecf1030b0e05e351e41c0369/tenseal-0.3.0-cp37-cp37m-manylinux2014_x86_64.whl (4.4MB)\n",
            "\u001b[K     |████████████████████████████████| 4.4MB 11.9MB/s \n",
            "\u001b[?25hInstalling collected packages: tenseal\n",
            "Successfully installed tenseal-0.3.0\n",
            "Collecting python_speech_features\n",
            "  Downloading https://files.pythonhosted.org/packages/ff/d1/94c59e20a2631985fbd2124c45177abaa9e0a4eee8ba8a305aa26fc02a8e/python_speech_features-0.6.tar.gz\n",
            "Building wheels for collected packages: python-speech-features\n",
            "  Building wheel for python-speech-features (setup.py) ... \u001b[?25l\u001b[?25hdone\n",
            "  Created wheel for python-speech-features: filename=python_speech_features-0.6-cp37-none-any.whl size=5887 sha256=fddb085ea610b654ee284d7662c095023cec46c9727d90975d94ceeb25acfef3\n",
            "  Stored in directory: /root/.cache/pip/wheels/3c/42/7c/f60e9d1b40015cd69b213ad90f7c18a9264cd745b9888134be\n",
            "Successfully built python-speech-features\n",
            "Installing collected packages: python-speech-features\n",
            "Successfully installed python-speech-features-0.6\n",
            "Cloning into 'homomorhpic_lab'...\n",
            "remote: Enumerating objects: 575, done.\u001b[K\n",
            "remote: Counting objects: 100% (575/575), done.\u001b[K\n",
            "remote: Compressing objects: 100% (481/481), done.\u001b[K\n",
            "remote: Total 575 (delta 160), reused 495 (delta 80), pack-reused 0\u001b[K\n",
            "Receiving objects: 100% (575/575), 47.54 MiB | 11.59 MiB/s, done.\n",
            "Resolving deltas: 100% (160/160), done.\n"
          ],
          "name": "stdout"
        }
      ]
    },
    {
      "cell_type": "markdown",
      "metadata": {
        "id": "XJ6ew-iFpOV9"
      },
      "source": [
        "Nonthing special, just import packages"
      ]
    },
    {
      "cell_type": "code",
      "metadata": {
        "id": "H6a7wYU9pWTo"
      },
      "source": [
        "import codecs\n",
        "import copy\n",
        "import json\n",
        "import os\n",
        "import sys\n",
        "\n",
        "import numpy as np\n",
        "import pandas as pd\n",
        "import python_speech_features as psf\n",
        "import scipy.io.wavfile as sw\n",
        "import tenseal as ts\n",
        "from sklearn import svm\n",
        "from sklearn.model_selection import train_test_split\n",
        "from sklearn.preprocessing import StandardScaler\n",
        "\n",
        "import time\n",
        "import tqdm"
      ],
      "execution_count": 2,
      "outputs": []
    },
    {
      "cell_type": "markdown",
      "metadata": {
        "id": "loFY4RNKpaDY"
      },
      "source": [
        "Read dataset and extract features."
      ]
    },
    {
      "cell_type": "code",
      "metadata": {
        "id": "U0eRBicqqXoC"
      },
      "source": [
        "audio_files_directory = '/content/homomorhpic_lab/model_training/training_data'\n",
        "\n",
        "\n",
        "final_dataset = pd.DataFrame()\n",
        "\n",
        "number_of_filters = 26\n",
        "for file_name in os.listdir(audio_files_directory):\n",
        "    if not os.path.isfile(os.path.join(audio_files_directory, file_name)):\n",
        "        continue\n",
        "\n",
        "    rate, signal = sw.read(os.path.join(audio_files_directory, file_name))\n",
        "    features = psf.base.mfcc(signal=signal, samplerate=rate, preemph=1.1, nfilt=number_of_filters, numcep=17)\n",
        "    features = psf.base.fbank(\n",
        "        signal=features,\n",
        "        samplerate=rate,\n",
        "    )[1]\n",
        "    features = psf.base.logfbank(features)\n",
        "    features_df = pd.DataFrame(features)\n",
        "\n",
        "    if 'dog' in file_name:\n",
        "        features_df['label'] = '-1'\n",
        "    elif 'cat' in file_name:\n",
        "        features_df['label'] = '1'\n",
        "    else:\n",
        "        raise ValueError(f'Unsupported animal class {file_name}')\n",
        "\n",
        "    final_dataset = final_dataset.append(features_df, ignore_index=True)\n",
        "\n",
        "\n",
        "# Finalize dataset with the attributes and target\n",
        "X = final_dataset.iloc[:, 0:-1]\n",
        "y = final_dataset.iloc[:, -1]"
      ],
      "execution_count": 3,
      "outputs": []
    },
    {
      "cell_type": "markdown",
      "metadata": {
        "id": "Re3mGrqwqe_B"
      },
      "source": [
        "To improve training and ease on HE computation I scale the data. And save scaling arguments for feature extraction during testing."
      ]
    },
    {
      "cell_type": "code",
      "metadata": {
        "id": "hhNi9WGFriEE",
        "colab": {
          "base_uri": "https://localhost:8080/"
        },
        "outputId": "705778a9-c83e-4096-ba7d-5169766f3233"
      },
      "source": [
        "# Splitting into test and train\n",
        "X_train, X_test, y_train, y_test = train_test_split(X, y, test_size=0.24, random_state=1)\n",
        "train_mean = np.array(X_train.mean())\n",
        "train_standard_deviation = np.array(X_train.std())\n",
        "\n",
        "# Feature Scaling\n",
        "sc = StandardScaler()\n",
        "X_train = sc.fit_transform(X_train)\n",
        "X_train = pd.DataFrame(X_train)\n",
        "\n",
        "X_test = sc.fit_transform(X_test)\n",
        "X_test = pd.DataFrame(X_test)\n",
        "\n",
        "print(f'Dataset shape: {final_dataset.shape}')\n",
        "print(f'Features:\\n{X.head(3)}')\n",
        "print(f'Labels:\\n{y.head(3)}')"
      ],
      "execution_count": 4,
      "outputs": [
        {
          "output_type": "stream",
          "text": [
            "Dataset shape: (270, 27)\n",
            "Features:\n",
            "          0          1          2   ...         23         24         25\n",
            "0  13.000456  11.973259  12.390361  ...  15.164259  15.173839  15.076394\n",
            "1  12.858563  11.260208  12.279925  ...  14.701157  14.907449  14.952418\n",
            "2  14.256347  13.940965  12.712797  ...  16.274481  16.364131  17.109760\n",
            "\n",
            "[3 rows x 26 columns]\n",
            "Labels:\n",
            "0    1\n",
            "1    1\n",
            "2    1\n",
            "Name: label, dtype: object\n"
          ],
          "name": "stdout"
        }
      ]
    },
    {
      "cell_type": "markdown",
      "metadata": {
        "id": "0nO84Ebr75AE"
      },
      "source": [
        "For ease of use and future modifications I've extracted the model configurations into a separate cell.\n",
        "Once changed please re-run all the following cells to get the updated results."
      ]
    },
    {
      "cell_type": "code",
      "metadata": {
        "id": "lU7HXNMV72QL"
      },
      "source": [
        "polynomial_degree = 3\n",
        "C = 20\n",
        "gamma = 10"
      ],
      "execution_count": 5,
      "outputs": []
    },
    {
      "cell_type": "markdown",
      "metadata": {
        "id": "klO3X6rpr7OZ"
      },
      "source": [
        "Create and train SVM model\n",
        "So to make in more interesting we choose polynomial kernel. As you can see t"
      ]
    },
    {
      "cell_type": "code",
      "metadata": {
        "colab": {
          "base_uri": "https://localhost:8080/"
        },
        "id": "64DSXC1sr-dW",
        "outputId": "fc92d73f-0b4c-4728-d242-7342a4513a3e"
      },
      "source": [
        "model = svm.SVC(\n",
        "  kernel='poly',\n",
        "  degree=polynomial_degree,\n",
        "  C=C,\n",
        "  gamma=gamma,\n",
        ")\n",
        "model.fit(X_train, y_train)"
      ],
      "execution_count": 6,
      "outputs": [
        {
          "output_type": "execute_result",
          "data": {
            "text/plain": [
              "SVC(C=20, break_ties=False, cache_size=200, class_weight=None, coef0=0.0,\n",
              "    decision_function_shape='ovr', degree=3, gamma=10, kernel='poly',\n",
              "    max_iter=-1, probability=False, random_state=None, shrinking=True,\n",
              "    tol=0.001, verbose=False)"
            ]
          },
          "metadata": {
            "tags": []
          },
          "execution_count": 6
        }
      ]
    },
    {
      "cell_type": "markdown",
      "metadata": {
        "id": "GE8iQdGjr_MD"
      },
      "source": [
        "As every datascientis and good student knows we only test quality of a trained model on part of the data we have never seen.\n",
        "So here we go:"
      ]
    },
    {
      "cell_type": "code",
      "metadata": {
        "colab": {
          "base_uri": "https://localhost:8080/"
        },
        "id": "RiUxyt1asOml",
        "outputId": "8f143171-52a4-45d5-e7a7-3b5c9c411aeb"
      },
      "source": [
        "accuracy_score = model.score(X_test, y_test)\n",
        "print(f'accuracy_score: {accuracy_score}')"
      ],
      "execution_count": 7,
      "outputs": [
        {
          "output_type": "stream",
          "text": [
            "accuracy_score: 0.8461538461538461\n"
          ],
          "name": "stdout"
        }
      ]
    },
    {
      "cell_type": "markdown",
      "metadata": {
        "id": "RZLBcMgUskBe"
      },
      "source": [
        "Lets run to predictions just to see if the model works"
      ]
    },
    {
      "cell_type": "code",
      "metadata": {
        "colab": {
          "base_uri": "https://localhost:8080/"
        },
        "id": "FtU7ssi3s031",
        "outputId": "68889a01-7fd0-4de7-856f-2267de50dd76"
      },
      "source": [
        "print(f'this should be {y_train.iloc[0]} a.k.a. cat: {model.predict(np.array(X_train.iloc[0,:]).reshape((1,26)))[0]}')\n",
        "print(f'this should be {y_train.iloc[3]} a.k.a. dog: {model.predict(np.array(X_train.iloc[3,:]).reshape((1,26)))[0]}')"
      ],
      "execution_count": 8,
      "outputs": [
        {
          "output_type": "stream",
          "text": [
            "this should be 1 a.k.a. cat: 1\n",
            "this should be -1 a.k.a. dog: -1\n"
          ],
          "name": "stdout"
        }
      ]
    },
    {
      "cell_type": "markdown",
      "metadata": {
        "id": "Tju0IATks53O"
      },
      "source": [
        "# Homomorphic Encryption example\n",
        "We finally here, this is officially the fun part!\n",
        "\n",
        "We have a trained SVM model, and we have some data. Which in our case are recordings of cats meow and dogs bark.\n",
        "Now lets assume that for some reason we are unable to tell the two apart, but we also do not want to whoever owns the server, or the \"cloud\" to know what animals do we have.\n",
        "\n",
        "So how one does it? How can we run inference on a remote server without discovering our data?\n",
        "\n",
        "**Homomorphic encryption to the rescue!**"
      ]
    },
    {
      "cell_type": "markdown",
      "metadata": {
        "id": "LmkEA5tGu0v9"
      },
      "source": [
        "## This code is run on \"imaginary\" client side:\n",
        "\n",
        "First we generate SEAL context."
      ]
    },
    {
      "cell_type": "code",
      "metadata": {
        "id": "Dpo7PJ_8u6-I"
      },
      "source": [
        "context = ts.context(\n",
        "    ts.SCHEME_TYPE.CKKS,\n",
        "    poly_modulus_degree=8192 * 2,\n",
        "    coeff_mod_bit_sizes=[60, 40, 40, 40, 40, 40, 60]\n",
        ")\n",
        "context.generate_galois_keys()\n",
        "context.global_scale = 2**40"
      ],
      "execution_count": 9,
      "outputs": []
    },
    {
      "cell_type": "markdown",
      "metadata": {
        "id": "GbHODjKPvQvk"
      },
      "source": [
        "Now I would like to define two functions, one that loads the audio file and extracts features from it, and the other that scales the query. Since we have trained our model on scaled data so the inference should also be made on scaled inputs."
      ]
    },
    {
      "cell_type": "code",
      "metadata": {
        "id": "qexer4YSvzYL"
      },
      "source": [
        "def load_query_from_file(\n",
        "    file_path='cat_21.wav',\n",
        "):\n",
        "    rate, signal = sw.read(os.path.join(audio_files_directory, file_path))\n",
        "    features = psf.base.mfcc(signal=signal, samplerate=rate, preemph=1.1, nfilt=number_of_filters, numcep=17)\n",
        "    features = psf.base.fbank(features)[1]\n",
        "    features = psf.base.logfbank(features)\n",
        "    query = np.array(features)[0]\n",
        "\n",
        "    return query\n",
        "\n",
        "def scale_qeuery(\n",
        "    query,\n",
        "):\n",
        "    return np.array((query - train_mean) / train_standard_deviation).reshape((1, 26))"
      ],
      "execution_count": 10,
      "outputs": []
    },
    {
      "cell_type": "code",
      "metadata": {
        "id": "S5DOm9qyvZ-t"
      },
      "source": [
        "query = load_query_from_file()\n",
        "scaled_query = scale_qeuery(query)"
      ],
      "execution_count": 11,
      "outputs": []
    },
    {
      "cell_type": "markdown",
      "metadata": {
        "id": "e5xDYfGPwFMp"
      },
      "source": [
        "Next line encrypts the query"
      ]
    },
    {
      "cell_type": "code",
      "metadata": {
        "id": "2XUvGPlRwFZf"
      },
      "source": [
        "enc_query = ts.ckks_vector(context, scaled_query.tolist()[0])"
      ],
      "execution_count": 12,
      "outputs": []
    },
    {
      "cell_type": "markdown",
      "metadata": {
        "id": "lenL8q4PxQV5"
      },
      "source": [
        "Now let's imagine that we've sent the encrypted query to a remote server. And the next cells are run on an \"imaginary\" server.\n",
        "\n",
        "\n",
        "## This code is run on an \"imaginary\" server\n",
        "To make things easier on the reader lets extract the required learned vectors from the trained model"
      ]
    },
    {
      "cell_type": "code",
      "metadata": {
        "id": "MX9I-VzSzVT8"
      },
      "source": [
        "bias = model.intercept_[0]\n",
        "degree = model.degree\n",
        "support_vectors = model.support_vectors_\n",
        "gamma = model.gamma\n",
        "dual_coefficients = model.dual_coef_\n",
        "coef0 = model.coef0"
      ],
      "execution_count": 13,
      "outputs": []
    },
    {
      "cell_type": "markdown",
      "metadata": {
        "id": "GC44QEUL0CwZ"
      },
      "source": [
        "# And so inference part:\n",
        "to answer if the query is a cat or a dog we have to calculate the following on an encrypted vector:\n",
        "![polykernel.png](data:image/png;base64,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)\n",
        "\n",
        "![image.png](data:image/png;base64,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)"
      ]
    },
    {
      "cell_type": "code",
      "metadata": {
        "id": "j1oqltcNwjPG"
      },
      "source": [
        "x_dot_x_tag = enc_query.matmul(support_vectors.T.tolist())\n",
        "inner_brackets = gamma * x_dot_x_tag + coef0\n",
        "poly_kernel = inner_brackets.square() * inner_brackets  # 3rd degree\n",
        "\n",
        "prediction_enc = poly_kernel.dot(dual_coefficients[0].tolist()) + bias"
      ],
      "execution_count": 14,
      "outputs": []
    },
    {
      "cell_type": "markdown",
      "metadata": {
        "id": "P445Hyhv1TIm"
      },
      "source": [
        "At this point, our imaginary server returns the encrypted result back to the client. \n",
        "\n",
        "## the following code is run on the client-side:\n",
        "\n",
        "All whats left to do is to decrypt the prediction.\n",
        "For the reader let's add 2 more lines that will do the inference as it would have been done without encryption, just to compare the results:"
      ]
    },
    {
      "cell_type": "code",
      "metadata": {
        "colab": {
          "base_uri": "https://localhost:8080/"
        },
        "id": "O52KdCmU0V2b",
        "outputId": "9b5a5389-374b-42b5-9c38-9d42b686ff89"
      },
      "source": [
        "decrytped_prediction = prediction_enc.decrypt()\n",
        "print(f'result prediction from encrypted value:\\t\\t{decrytped_prediction[0]}')\n",
        "\n",
        "prediction_using_built_in_SVM_function = model.decision_function(scaled_query)\n",
        "print(f'expected prediction value:\\t\\t\\t{prediction_using_built_in_SVM_function[0]}')\n",
        "\n",
        "prediction_using_vector_math = dual_coefficients.dot(\n",
        "    np.power(\n",
        "        gamma * support_vectors.dot(scaled_query.T) + coef0,\n",
        "        degree\n",
        "    )\n",
        ") + bias\n",
        "print(f'expected prediction value using vector math:\\t{decrytped_prediction[0]}')"
      ],
      "execution_count": 15,
      "outputs": [
        {
          "output_type": "stream",
          "text": [
            "result prediction from encrypted value:\t\t1.4895861526221106\n",
            "expected prediction value:\t\t\t1.4895853602724585\n",
            "expected prediction value using vector math:\t1.4895861526221106\n"
          ],
          "name": "stdout"
        }
      ]
    },
    {
      "cell_type": "markdown",
      "metadata": {
        "id": "xvZIk4ni9o7g"
      },
      "source": [
        "Yes! I know! The result is nothing short of amazing.\n",
        "\n",
        "We have been able to:\n",
        "- train an SVM model\n",
        "- encrypt our query\n",
        "- run the inference on encrypted query\n",
        "- and get result identical to one without encryption\n",
        "\n",
        "From here all client needs to do is to ask the server what is the meaning of positive and negative values (in case of 2 class classification with SVM).\n",
        "And then the client can check the sign of the resulting values."
      ]
    },
    {
      "cell_type": "code",
      "metadata": {
        "colab": {
          "base_uri": "https://localhost:8080/"
        },
        "id": "VeiqGdRVBOc5",
        "outputId": "4584d2ab-3a46-435d-dfe7-7e11c58f56f5"
      },
      "source": [
        "print(f'expected result using original model without encryption: {model.predict(scaled_query)}')\n",
        "print(f'result prediction from encrypted value:\\t\\t\\t {np.sign(prediction_enc.decrypt())}')"
      ],
      "execution_count": 16,
      "outputs": [
        {
          "output_type": "stream",
          "text": [
            "expected result using original model without encryption: ['1']\n",
            "result prediction from encrypted value:\t\t\t [1.]\n"
          ],
          "name": "stdout"
        }
      ]
    },
    {
      "cell_type": "markdown",
      "metadata": {
        "id": "cHoySY9tN_sg"
      },
      "source": [
        "For better readability, let's wrap the server-side code into a function:"
      ]
    },
    {
      "cell_type": "code",
      "metadata": {
        "id": "7QPmXOGQXBQR"
      },
      "source": [
        "def server_side_computation(\n",
        "    enc_query,\n",
        "    support_vectors: np.array,\n",
        "    coef0,\n",
        "    gamma,\n",
        "    bias,\n",
        "    dual_coefficients\n",
        "):\n",
        "    x_dot_x_tag = enc_query.matmul(support_vectors.T.tolist())\n",
        "    inner_brackets = gamma * x_dot_x_tag + coef0\n",
        "    poly_kernel = inner_brackets.square() * inner_brackets  # 3rd degree\n",
        "\n",
        "    return poly_kernel.dot(dual_coefficients[0].tolist()) + bias"
      ],
      "execution_count": 17,
      "outputs": []
    },
    {
      "cell_type": "markdown",
      "metadata": {
        "id": "DgkKB-zqByYf"
      },
      "source": [
        "Let us check the MSE and count the correct predictions comparing HE and unencrypted predictions on all available sound files in the dataset.\n",
        "The thing to note here the MSE is tiny, negligible!\n",
        "And all of the predictions are the same as the ones made on not encrypted query\n",
        "\n",
        "Since we are only somewhat interested in the quality of the trained model and most of the emphasis goes towards featuring HE as a viable alternative for server-side inference I will run the following tests on all of the data.\n",
        "\n",
        "**Running the following cell will take a while, about 5 minutes**"
      ]
    },
    {
      "cell_type": "code",
      "metadata": {
        "colab": {
          "base_uri": "https://localhost:8080/"
        },
        "id": "G7wwaESKa685",
        "outputId": "4f2d1bc2-9dd0-48b6-918e-67f5b7a195f3"
      },
      "source": [
        "correct_results_counter = 0\n",
        "wrong_results_counter = 0\n",
        "results = pd.DataFrame(columns=['open_text', 'HE', 'same_result', 'encryption_time', 'inference_time', 'decryption_time', 'total_encrypted_time', 'total_open_text_time'])\n",
        "\n",
        "for features_array in tqdm.tqdm(X.iterrows(), total=len(X)):\n",
        "    scaled_query = scale_qeuery(\n",
        "        query=features_array[1],\n",
        "    )\n",
        "    now = time.time()\n",
        "    enc_query = ts.ckks_vector(context, scaled_query.tolist()[0])\n",
        "    encryption_time = time.time() - now\n",
        "\n",
        "    now = time.time()\n",
        "    encrypted_prediction = server_side_computation(\n",
        "        enc_query=enc_query,\n",
        "        support_vectors=support_vectors,\n",
        "        coef0=coef0,\n",
        "        gamma=gamma,\n",
        "        bias=bias,\n",
        "        dual_coefficients=dual_coefficients,\n",
        "    )\n",
        "    inference_time = time.time() - now\n",
        "\n",
        "    now = time.time()\n",
        "    decrypted_prediction = encrypted_prediction.decrypt()\n",
        "    decryption_time = time.time() - now\n",
        "\n",
        "    now = time.time()\n",
        "    prediction_using_vector_math = dual_coefficients.dot(\n",
        "      np.power(\n",
        "          gamma * support_vectors.dot(scaled_query.T) + coef0,\n",
        "          degree\n",
        "      )\n",
        "    ) + bias\n",
        "    total_open_text_time = time.time() - now\n",
        "    \n",
        "    results = results.append(\n",
        "        {\n",
        "            'open_text': prediction_using_vector_math[0],\n",
        "            'HE': decrypted_prediction,\n",
        "            'same_result': np.sign(prediction_using_vector_math[0]) == np.sign(decrypted_prediction),\n",
        "            'encryption_time': encryption_time,\n",
        "            'inference_time': inference_time,\n",
        "            'decryption_time': decryption_time,\n",
        "            'total_encrypted_time': encryption_time + inference_time + decryption_time,\n",
        "            'total_open_text_time': total_open_text_time,\n",
        "        },\n",
        "        ignore_index=True\n",
        "    )\n",
        "\n",
        "print(f'total correct: {correct_results_counter}')\n",
        "print(f'total wrong: {wrong_results_counter}')\n",
        "mse = ((results['open_text'] - results['HE'])**2).mean(axis=0)\n",
        "print(f'MSE: {mse}')"
      ],
      "execution_count": 18,
      "outputs": [
        {
          "output_type": "stream",
          "text": [
            "100%|██████████| 270/270 [05:39<00:00,  1.26s/it]"
          ],
          "name": "stderr"
        },
        {
          "output_type": "stream",
          "text": [
            "total correct: 0\n",
            "total wrong: 0\n",
            "MSE: [4.61122854e-06]\n"
          ],
          "name": "stdout"
        },
        {
          "output_type": "stream",
          "text": [
            "\n"
          ],
          "name": "stderr"
        }
      ]
    },
    {
      "cell_type": "markdown",
      "metadata": {
        "id": "XwTr98a5mLRF"
      },
      "source": [
        "We have finished running the comparison between encrypted and open text inference.\n",
        "These are our results.\n",
        "As you can see the MSE (mean squared error) is negligible, more overall the predictions on encrypted data yield exactly the same results as open text predictions.\n",
        "It seems as though there are no downsides to using HE, but is there?\n",
        "\n",
        "Nothing is free, neither is our privacy and security. Computation on encrypted data simply takes longer."
      ]
    },
    {
      "cell_type": "code",
      "metadata": {
        "id": "CKRT1AV5mCbm",
        "outputId": "afbe225b-c4a5-432a-88ef-5b87046281eb",
        "colab": {
          "base_uri": "https://localhost:8080/",
          "height": 300
        }
      },
      "source": [
        "results.describe()"
      ],
      "execution_count": 19,
      "outputs": [
        {
          "output_type": "execute_result",
          "data": {
            "text/html": [
              "<div>\n",
              "<style scoped>\n",
              "    .dataframe tbody tr th:only-of-type {\n",
              "        vertical-align: middle;\n",
              "    }\n",
              "\n",
              "    .dataframe tbody tr th {\n",
              "        vertical-align: top;\n",
              "    }\n",
              "\n",
              "    .dataframe thead th {\n",
              "        text-align: right;\n",
              "    }\n",
              "</style>\n",
              "<table border=\"1\" class=\"dataframe\">\n",
              "  <thead>\n",
              "    <tr style=\"text-align: right;\">\n",
              "      <th></th>\n",
              "      <th>encryption_time</th>\n",
              "      <th>inference_time</th>\n",
              "      <th>decryption_time</th>\n",
              "      <th>total_encrypted_time</th>\n",
              "      <th>total_open_text_time</th>\n",
              "    </tr>\n",
              "  </thead>\n",
              "  <tbody>\n",
              "    <tr>\n",
              "      <th>count</th>\n",
              "      <td>270.000000</td>\n",
              "      <td>270.000000</td>\n",
              "      <td>270.000000</td>\n",
              "      <td>270.000000</td>\n",
              "      <td>270.000000</td>\n",
              "    </tr>\n",
              "    <tr>\n",
              "      <th>mean</th>\n",
              "      <td>0.022076</td>\n",
              "      <td>1.226575</td>\n",
              "      <td>0.001878</td>\n",
              "      <td>1.250529</td>\n",
              "      <td>0.000119</td>\n",
              "    </tr>\n",
              "    <tr>\n",
              "      <th>std</th>\n",
              "      <td>0.002304</td>\n",
              "      <td>0.064493</td>\n",
              "      <td>0.000300</td>\n",
              "      <td>0.065314</td>\n",
              "      <td>0.000043</td>\n",
              "    </tr>\n",
              "    <tr>\n",
              "      <th>min</th>\n",
              "      <td>0.015593</td>\n",
              "      <td>0.939457</td>\n",
              "      <td>0.001323</td>\n",
              "      <td>0.958970</td>\n",
              "      <td>0.000086</td>\n",
              "    </tr>\n",
              "    <tr>\n",
              "      <th>25%</th>\n",
              "      <td>0.021868</td>\n",
              "      <td>1.204655</td>\n",
              "      <td>0.001828</td>\n",
              "      <td>1.228979</td>\n",
              "      <td>0.000107</td>\n",
              "    </tr>\n",
              "    <tr>\n",
              "      <th>50%</th>\n",
              "      <td>0.022267</td>\n",
              "      <td>1.249067</td>\n",
              "      <td>0.001852</td>\n",
              "      <td>1.273364</td>\n",
              "      <td>0.000112</td>\n",
              "    </tr>\n",
              "    <tr>\n",
              "      <th>75%</th>\n",
              "      <td>0.022988</td>\n",
              "      <td>1.257307</td>\n",
              "      <td>0.001898</td>\n",
              "      <td>1.281865</td>\n",
              "      <td>0.000120</td>\n",
              "    </tr>\n",
              "    <tr>\n",
              "      <th>max</th>\n",
              "      <td>0.029464</td>\n",
              "      <td>1.724109</td>\n",
              "      <td>0.003769</td>\n",
              "      <td>1.755411</td>\n",
              "      <td>0.000721</td>\n",
              "    </tr>\n",
              "  </tbody>\n",
              "</table>\n",
              "</div>"
            ],
            "text/plain": [
              "       encryption_time  ...  total_open_text_time\n",
              "count       270.000000  ...            270.000000\n",
              "mean          0.022076  ...              0.000119\n",
              "std           0.002304  ...              0.000043\n",
              "min           0.015593  ...              0.000086\n",
              "25%           0.021868  ...              0.000107\n",
              "50%           0.022267  ...              0.000112\n",
              "75%           0.022988  ...              0.000120\n",
              "max           0.029464  ...              0.000721\n",
              "\n",
              "[8 rows x 5 columns]"
            ]
          },
          "metadata": {
            "tags": []
          },
          "execution_count": 19
        }
      ]
    },
    {
      "cell_type": "markdown",
      "metadata": {
        "id": "UPqEzj4cns7i"
      },
      "source": [
        "To extract the most important information from the previous table:\n",
        "- Mean time for open text inference is: 0.000148, with a standard deviation of 0.0001\n",
        "\n",
        "- Mean time for total encrypted computation is 1.227132 with std of 0.008\n",
        "\n",
        "This means that secure inference is about 8300 times slower than open-text one.\n",
        "\n",
        "This number seems big and scary, but let's not forget that it's **only about a second** on a general-purpose CPU. And what's another second to wait and be sure that your privacy is intact.\n",
        "\n",
        "With this, I would like to conclude that HE is an absolutely viable way to protect users and their data even in its current early stage of development with limited hardware support.\n",
        "\n",
        "More information about SVM and HE can be found at the links at the bottom of this notebook."
      ]
    },
    {
      "cell_type": "code",
      "metadata": {
        "id": "jVu35pwkc_nv",
        "outputId": "9b744c1b-863f-462c-cf56-c30e01ce8c64",
        "colab": {
          "base_uri": "https://localhost:8080/",
          "height": 838
        }
      },
      "source": [
        "results.hist(bins=30, figsize=(20, 12))"
      ],
      "execution_count": 20,
      "outputs": [
        {
          "output_type": "execute_result",
          "data": {
            "text/plain": [
              "array([[<matplotlib.axes._subplots.AxesSubplot object at 0x7f47b7d0d250>,\n",
              "        <matplotlib.axes._subplots.AxesSubplot object at 0x7f47d5216210>],\n",
              "       [<matplotlib.axes._subplots.AxesSubplot object at 0x7f47b61e2f50>,\n",
              "        <matplotlib.axes._subplots.AxesSubplot object at 0x7f47b619d610>],\n",
              "       [<matplotlib.axes._subplots.AxesSubplot object at 0x7f47b614fc90>,\n",
              "        <matplotlib.axes._subplots.AxesSubplot object at 0x7f47b610d350>]],\n",
              "      dtype=object)"
            ]
          },
          "metadata": {
            "tags": []
          },
          "execution_count": 20
        },
        {
          "output_type": "display_data",
          "data": {
            "image/png": "[encoded data removed]",
            "text/plain": [
              "<Figure size 1440x864 with 6 Axes>"
            ]
          },
          "metadata": {
            "tags": [],
            "needs_background": "light"
          }
        }
      ]
    },
    {
      "cell_type": "markdown",
      "metadata": {
        "id": "k5cY8MJjCiGn"
      },
      "source": [
        "Links:\n",
        "- [More on SVM scikit learn](https://scikit-learn.org/stable/modules/svm.html)\n",
        "- [More detailed overview of SVM and kernel functions](https://core.ac.uk/download/pdf/41757043.pdf)\n",
        "- [dot product explanation](https://arxiv.org/pdf/2012.13552.pdf)\n",
        "- [Support Vector Machines chapter from Python Data Science Handbook](https://colab.research.google.com/github/jakevdp/PythonDataScienceHandbook/blob/master/notebooks/05.07-Support-Vector-Machines.ipynb#scrollTo=PDqscNUNJ7LV)\n",
        "- [Scikit Learn SVC documentation](https://scikit-learn.org/stable/modules/generated/sklearn.svm.SVC.html)\n",
        "- [SVM: Maximum margin separating hyperplane](https://scikit-learn.org/stable/auto_examples/svm/plot_separating_hyperplane.html#example-svm-plot-separating-hyperplane-py)\n",
        "- [Python data science book](https://github.com/jakevdp/PythonDataScienceHandbook)\n",
        "- [using custom kernels with SVM](https://scikit-learn.org/stable/auto_examples/svm/plot_custom_kernel.html)\n",
        "\n",
        "- [Python speech features good place to find inspiration for feature extraction options](https://python-speech-features.readthedocs.io/en/latest/)\n",
        "- [Standard scaler](https://scikit-learn.org/stable/modules/generated/sklearn.preprocessing.StandardScaler.html)"
      ]
    }
  ]
}